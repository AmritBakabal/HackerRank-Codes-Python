{
 "cells": [
  {
   "cell_type": "code",
   "execution_count": null,
   "id": "fbb3130a",
   "metadata": {},
   "outputs": [],
   "source": [
    "if __name__ == '__main__':\n",
    "    python_students = []\n",
    "    for _ in range(int(input())):\n",
    "        name = input()\n",
    "        score = float(input()) \n",
    "        python_students.append([name, score])\n",
    "    \n",
    "    scores = []\n",
    "    for grade in python_students:\n",
    "        scores.append(grade[1])\n",
    "    \n",
    "    unique_score = []\n",
    "    for score in scores:\n",
    "        if score not in unique_score:\n",
    "            unique_score.append(score)\n",
    "            \n",
    "    unique_score.sort()\n",
    "    second_last = unique_score[1]\n",
    "    \n",
    "    second_last_name = []\n",
    "    for students in python_students:\n",
    "        name = students[0]\n",
    "        mark = students[1]\n",
    "        if mark == second_last:\n",
    "            second_last_name.append(name)\n",
    "            \n",
    "    second_last_name.sort()\n",
    "    for name in second_last_name:\n",
    "        print(name)"
   ]
  }
 ],
 "metadata": {
  "kernelspec": {
   "display_name": "Python (myenv)",
   "language": "python",
   "name": "myenv"
  },
  "language_info": {
   "codemirror_mode": {
    "name": "ipython",
    "version": 3
   },
   "file_extension": ".py",
   "mimetype": "text/x-python",
   "name": "python",
   "nbconvert_exporter": "python",
   "pygments_lexer": "ipython3",
   "version": "3.12.3"
  }
 },
 "nbformat": 4,
 "nbformat_minor": 5
}
