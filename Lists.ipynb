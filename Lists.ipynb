{
 "cells": [
  {
   "cell_type": "code",
   "execution_count": null,
   "id": "17d74e29",
   "metadata": {},
   "outputs": [],
   "source": [
    "if __name__ == '__main__':\n",
    "    N = int(input())\n",
    "    \n",
    "    my_list = []\n",
    "    \n",
    "    for _ in range(N):\n",
    "        command = input().split()\n",
    "        cmd = command[0]\n",
    "        if cmd == 'insert':\n",
    "            index = int(command[1])\n",
    "            value = int(command[2])\n",
    "            my_list.insert(index,value)\n",
    "        elif cmd == 'append':\n",
    "            value = int(command[1])\n",
    "            my_list.append(value)\n",
    "        elif cmd == 'remove':\n",
    "            value = int(command[1])\n",
    "            my_list.remove(value)\n",
    "        elif cmd == 'sort':\n",
    "            my_list.sort()\n",
    "        elif cmd == 'reverse':\n",
    "            my_list.reverse()\n",
    "        elif cmd == 'pop':\n",
    "            my_list.pop()\n",
    "        elif cmd == 'print':\n",
    "            print(my_list)"
   ]
  }
 ],
 "metadata": {
  "kernelspec": {
   "display_name": "Python (myenv)",
   "language": "python",
   "name": "myenv"
  },
  "language_info": {
   "codemirror_mode": {
    "name": "ipython",
    "version": 3
   },
   "file_extension": ".py",
   "mimetype": "text/x-python",
   "name": "python",
   "nbconvert_exporter": "python",
   "pygments_lexer": "ipython3",
   "version": "3.12.3"
  }
 },
 "nbformat": 4,
 "nbformat_minor": 5
}
