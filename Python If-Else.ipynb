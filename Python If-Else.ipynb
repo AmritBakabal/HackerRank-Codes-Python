{
 "cells": [
  {
   "cell_type": "code",
   "execution_count": 1,
   "id": "f52e299f",
   "metadata": {},
   "outputs": [
    {
     "name": "stdout",
     "output_type": "stream",
     "text": [
      "2\n",
      "Not Weird\n"
     ]
    }
   ],
   "source": [
    "#!/bin/python3\n",
    "\n",
    "import math\n",
    "import os\n",
    "import random\n",
    "import re\n",
    "import sys\n",
    "\n",
    "\n",
    "\n",
    "if __name__ == '__main__':\n",
    "    n = int(input().strip())\n",
    "    if(1 <= n <= 100):\n",
    "        if(n % 2 != 0):\n",
    "            print('Weird')\n",
    "        elif(n % 2 == 0 and 2 <= n <= 5):\n",
    "            print('Not Weird')\n",
    "        elif(n % 2 == 0 and 6 <= n <= 20):\n",
    "            print('Weird')\n",
    "        elif(n % 2 == 0 and n > 20):\n",
    "            print('Not Weird')"
   ]
  },
  {
   "cell_type": "code",
   "execution_count": null,
   "id": "8ccd6247",
   "metadata": {},
   "outputs": [],
   "source": []
  }
 ],
 "metadata": {
  "kernelspec": {
   "display_name": "Python (myenv)",
   "language": "python",
   "name": "myenv"
  },
  "language_info": {
   "codemirror_mode": {
    "name": "ipython",
    "version": 3
   },
   "file_extension": ".py",
   "mimetype": "text/x-python",
   "name": "python",
   "nbconvert_exporter": "python",
   "pygments_lexer": "ipython3",
   "version": "3.12.3"
  }
 },
 "nbformat": 4,
 "nbformat_minor": 5
}
